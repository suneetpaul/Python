{
 "cells": [
  {
   "cell_type": "markdown",
   "metadata": {},
   "source": [
    "•\tPython | Sort Python Dictionaries by Key or Value\n",
    "\n"
   ]
  },
  {
   "cell_type": "code",
   "execution_count": 30,
   "metadata": {},
   "outputs": [
    {
     "name": "stdout",
     "output_type": "stream",
     "text": [
      "['apple', 'banana', 'orange']\n"
     ]
    }
   ],
   "source": [
    "my_dict = {'banana': 3, 'apple': 1, 'orange': 2}\n",
    "g = list(my_dict.keys())\n",
    "g.sort()\n",
    "print(g)\n"
   ]
  },
  {
   "cell_type": "code",
   "execution_count": 31,
   "metadata": {},
   "outputs": [
    {
     "name": "stdout",
     "output_type": "stream",
     "text": [
      "[1, 2, 3]\n"
     ]
    }
   ],
   "source": [
    "my_dict = {'banana': 3, 'apple': 1, 'orange': 2}\n",
    "g = list(my_dict.values())\n",
    "g.sort()\n",
    "print(g)"
   ]
  },
  {
   "cell_type": "code",
   "execution_count": 33,
   "metadata": {},
   "outputs": [
    {
     "name": "stdout",
     "output_type": "stream",
     "text": [
      "Dictionary {2: 56, 1: 2, 5: 12, 4: 24}\n",
      "1 2 4 5 "
     ]
    }
   ],
   "source": [
    "d = {2: 56, 1: 2, 5: 12, 4: 24}\n",
    "\n",
    "print(\"Dictionary\", d)\n",
    "\n",
    "# Sorting and printing dictionary keys\n",
    "for i in sorted(d.keys()):\n",
    "    print(i, end=\" \")\n"
   ]
  },
  {
   "cell_type": "markdown",
   "metadata": {},
   "source": [
    "•\tHandling missing keys in Python dictionaries"
   ]
  },
  {
   "cell_type": "code",
   "execution_count": null,
   "metadata": {},
   "outputs": [
    {
     "name": "stdout",
     "output_type": "stream",
     "text": [
      "a\n"
     ]
    }
   ],
   "source": [
    "dict = {'a': 56, 'b': 2, 'c': 12, 'd': 24}\n",
    "\n",
    "check = input('cehck value in dictonary or not : ')\n",
    "\n",
    "if check in dict:\n",
    "    print(check)\n",
    "else:\n",
    "    print('value not found')"
   ]
  },
  {
   "cell_type": "code",
   "execution_count": null,
   "metadata": {},
   "outputs": [
    {
     "name": "stdout",
     "output_type": "stream",
     "text": [
      "56\n"
     ]
    }
   ],
   "source": [
    "dict = {'a': 56, 'b': 2, 'c': 12, 'd': 24}\n",
    "\n",
    "check = input('cehck value in dictonary or not : ')\n",
    "\n",
    "print(dict.get(check , 'not found'))"
   ]
  },
  {
   "cell_type": "markdown",
   "metadata": {},
   "source": [
    "\n",
    "•\tPython dictionary with keys having multiple inputs"
   ]
  },
  {
   "cell_type": "code",
   "execution_count": 41,
   "metadata": {},
   "outputs": [
    {
     "name": "stdout",
     "output_type": "stream",
     "text": [
      "{'child1': {'name': 'suneet', 'year': 2004, 'course': 'datascience '}, 'child2': {'name': 'sahil', 'year': 2005, 'course': 'datascience '}, 'child3': {'name': 'nitin', 'year': 2001, 'course': 'datascience '}, 'child4': {'name': 'mayank', 'year': 2000, 'course': 'datascience '}}\n"
     ]
    }
   ],
   "source": [
    "clas = {\n",
    "    \"child1\": {      \"name\" : \"suneet\",      \"year\" : 2004 , \"course\": \"datascience \"  },\n",
    "    \"child2\": {      \"name\" : \"sahil\",       \"year\" : 2005 , \"course\": \"datascience \"  },\n",
    "    \"child3\": {      \"name\" : \"nitin\",       \"year\" : 2001 , \"course\": \"datascience \"  },\n",
    "    \"child4\": {      \"name\" : \"mayank\",      \"year\" : 2000 , \"course\": \"datascience \"}\n",
    "\n",
    "}\n",
    "\n",
    "print(clas)"
   ]
  },
  {
   "cell_type": "markdown",
   "metadata": {},
   "source": [
    "\n",
    "•\tPython program to find the sum of all items in a dictionary"
   ]
  },
  {
   "cell_type": "code",
   "execution_count": 5,
   "metadata": {},
   "outputs": [
    {
     "name": "stdout",
     "output_type": "stream",
     "text": [
      "Total Hindi Score: 108\n",
      "Total English Score: 211\n"
     ]
    }
   ],
   "source": [
    "clas = {\n",
    "    \"child1\": {      \"name\" : \"suneet\",      \"hindi\" : 42 , \"english\": 52  },\n",
    "    \"child2\": {      \"name\" : \"sahil\",       \"hindi\" : 25 , \"english\": 56  },\n",
    "    \"child3\": {      \"name\" : \"nitin\",       \"hindi\" : 21 , \"english\": 45  },\n",
    "    \"child4\": {      \"name\" : \"mayank\",      \"hindi\" : 20 , \"english\": 58  }\n",
    "\n",
    "}\n",
    "\n",
    "hindi = 0\n",
    "english = 0\n",
    "\n",
    "for child, scores in clas.items():\n",
    "    hindi += scores[\"hindi\"]\n",
    "    english += scores[\"english\"]\n",
    "\n",
    "print(f\"Total Hindi Score: {hindi}\")\n",
    "print(f\"Total English Score: {english}\")\n",
    "\n"
   ]
  },
  {
   "cell_type": "markdown",
   "metadata": {},
   "source": [
    "\n",
    "•\tPython program to find the size of a Dictionary"
   ]
  },
  {
   "cell_type": "code",
   "execution_count": 7,
   "metadata": {},
   "outputs": [
    {
     "name": "stdout",
     "output_type": "stream",
     "text": [
      "The size of the dictionary is:  4\n"
     ]
    }
   ],
   "source": [
    "clas = {\n",
    "    \"child1\": {      \"name\" : \"suneet\",      \"hindi\" : 42 , \"english\": 52  },\n",
    "    \"child2\": {      \"name\" : \"sahil\",       \"hindi\" : 25 , \"english\": 56  },\n",
    "    \"child3\": {      \"name\" : \"nitin\",       \"hindi\" : 21 , \"english\": 45  },\n",
    "    \"child4\": {      \"name\" : \"mayank\",      \"hindi\" : 20 , \"english\": 58  }\n",
    "\n",
    "}\n",
    "\n",
    "print(\"The size of the dictionary is: \",len(clas))\n",
    "\n"
   ]
  },
  {
   "cell_type": "markdown",
   "metadata": {},
   "source": [
    "\n",
    "•\tWays to sort list of dictionaries by values in Python – Using itemg etter\n"
   ]
  },
  {
   "cell_type": "code",
   "execution_count": 3,
   "metadata": {},
   "outputs": [
    {
     "name": "stdout",
     "output_type": "stream",
     "text": [
      "The list printed sorting by age:  [{'name': 'mayank', 'age': 19}, {'name': 'suneet', 'age': 20}, {'name': 'sahil', 'age': 20}]\n"
     ]
    }
   ],
   "source": [
    "list = [\n",
    "    {\"name\": \"suneet\", \"age\": 20},\n",
    "    {\"name\": \"sahil\", \"age\": 20},\n",
    "    {\"name\": \"mayank\", \"age\": 19}\n",
    "]\n",
    "from operator  import itemgetter\n",
    "d = sorted(list, key=itemgetter('age'))\n",
    "\n",
    "print(\"The list printed sorting by age: \" , d)\n"
   ]
  },
  {
   "cell_type": "markdown",
   "metadata": {},
   "source": [
    "•\tWays to sort list of dictionaries by values in Python – Using lambda function\n"
   ]
  },
  {
   "cell_type": "code",
   "execution_count": 14,
   "metadata": {},
   "outputs": [
    {
     "name": "stdout",
     "output_type": "stream",
     "text": [
      "The list printed sorting by age:  [{'name': 'suneet', 'age': 20}, {'name': 'sahil', 'age': 20}, {'name': 'mayank', 'age': 19}]\n"
     ]
    }
   ],
   "source": [
    "list = [\n",
    "    {\"name\": \"suneet\", \"age\": 20},\n",
    "    {\"name\": \"sahil\", \"age\": 20},\n",
    "    {\"name\": \"mayank\", \"age\": 19}\n",
    "]\n",
    "sorted(list, key=lambda i: i['age'])\n",
    " \n",
    "print(\"The list printed sorting by age: \" , list )\n"
   ]
  },
  {
   "cell_type": "markdown",
   "metadata": {},
   "source": [
    "•\tPython | Merging two Dictionaries\n"
   ]
  },
  {
   "cell_type": "code",
   "execution_count": 8,
   "metadata": {},
   "outputs": [
    {
     "name": "stdout",
     "output_type": "stream",
     "text": [
      "{'a': 1, 'b': 2, 'd': 3, 'c': 4}\n"
     ]
    }
   ],
   "source": [
    "dict1 = {'a': 1, 'b': 2}\n",
    "dict2 = {'d': 3, 'c': 4}\n",
    "\n",
    "dict1.update(dict2)\n",
    "print(dict1)"
   ]
  },
  {
   "cell_type": "markdown",
   "metadata": {},
   "source": [
    "•\tProgram to create grade calculator in Python\n"
   ]
  },
  {
   "cell_type": "code",
   "execution_count": null,
   "metadata": {},
   "outputs": [],
   "source": []
  },
  {
   "cell_type": "markdown",
   "metadata": {},
   "source": [
    "•\tPython – Insertion at the beginning in OrderedDict\n"
   ]
  },
  {
   "cell_type": "code",
   "execution_count": 12,
   "metadata": {},
   "outputs": [
    {
     "name": "stdout",
     "output_type": "stream",
     "text": [
      "{'pre1': 4, 'pre2': 8, 'Gfg': 5, 'is': 3, 'best': 10}\n"
     ]
    }
   ],
   "source": [
    "test_dict = {\"Gfg\" : 5, \"is\" : 3, \"best\" : 10}\n",
    "\n",
    "updict = {\"pre1\" : 4, \"pre2\" : 8}\n",
    "\n",
    "updict.update(test_dict)\n",
    "\n",
    "test_dict = updict\n",
    "\n",
    "print(test_dict)"
   ]
  },
  {
   "cell_type": "markdown",
   "metadata": {},
   "source": [
    "•\tPython | Check order of character in string using OrderedDict( )\n"
   ]
  },
  {
   "cell_type": "code",
   "execution_count": null,
   "metadata": {},
   "outputs": [],
   "source": []
  },
  {
   "cell_type": "markdown",
   "metadata": {},
   "source": [
    "•\tPython | Find common elements in three sorted arrays by dictionary intersection\n"
   ]
  },
  {
   "cell_type": "code",
   "execution_count": 23,
   "metadata": {},
   "outputs": [
    {
     "name": "stdout",
     "output_type": "stream",
     "text": [
      "[20, 80]\n"
     ]
    }
   ],
   "source": [
    "ar1 = [1, 5, 10, 20, 40, 80]\n",
    "ar2 = [6, 7, 20, 80, 100]\n",
    "ar3 = [3, 4, 15, 20, 30, 70, 80, 120]\n",
    "\n",
    "n1, n2, n3 = len(ar1), len(ar2), len(ar3)\n",
    "i, j, k = 0, 0, 0\n",
    "common = []\n",
    "while i < n1 and j < n2 and k < n3:\n",
    "    if ar1[i] == ar2[j] == ar3[k]:\n",
    "        common.append(ar1[i])\n",
    "        i += 1\n",
    "        j += 1\n",
    "        k += 1\n",
    "    elif ar1[i] < ar2[j]:\n",
    "        i += 1\n",
    "    elif ar2[j] < ar3[k]:\n",
    "        j += 1\n",
    "    \n",
    "    else:\n",
    "        k += 1\n",
    "   \n",
    "print(common)\n",
    "\n",
    "\n",
    "\n",
    "     \n"
   ]
  },
  {
   "cell_type": "markdown",
   "metadata": {},
   "source": [
    "•\tDictionary and counter in Python to find winner of election\n",
    "\n"
   ]
  },
  {
   "cell_type": "code",
   "execution_count": 26,
   "metadata": {},
   "outputs": [
    {
     "name": "stdout",
     "output_type": "stream",
     "text": [
      "3\n",
      "4\n",
      "1\n"
     ]
    }
   ],
   "source": [
    "votes = [\"Alice\", \"Bob\", \"Alice\", \"Charlie\", \"Bob\", \"Alice\", \"Bob\", \"Bob\"]\n",
    "Alice = 0\n",
    "Bob = 0\n",
    "Charlie = 0\n",
    "for scores in votes:\n",
    "    if scores == \"Alice\":\n",
    "        Alice += 1\n",
    "    elif scores == \"Bob\":\n",
    "        Bob += 1\n",
    "    elif scores == \"Charlie\":\n",
    "        Charlie += 1\n",
    "\n",
    "print(Alice)\n",
    "print(Bob)\n",
    "print(Charlie)"
   ]
  },
  {
   "cell_type": "markdown",
   "metadata": {},
   "source": [
    "•\tPython – Key with maximum unique values\n"
   ]
  },
  {
   "cell_type": "code",
   "execution_count": 6,
   "metadata": {},
   "outputs": [
    {
     "name": "stdout",
     "output_type": "stream",
     "text": [
      "56\n"
     ]
    }
   ],
   "source": [
    "dict = {'a': 56, 'b': 2, 'c': 12, 'd': 24}\n",
    "\n",
    "value = list(dict.values())\n",
    "\n",
    "print(max(value))\n"
   ]
  },
  {
   "cell_type": "markdown",
   "metadata": {},
   "source": [
    "•\tFind all duplicate characters in string\n"
   ]
  },
  {
   "cell_type": "code",
   "execution_count": 38,
   "metadata": {},
   "outputs": [
    {
     "name": "stdout",
     "output_type": "stream",
     "text": [
      "['e'] 2\n"
     ]
    }
   ],
   "source": [
    "x=[]\n",
    "c = 1\n",
    "y = 'suneet'\n",
    "#y =input(\" entr your word : \")\n",
    "for i in y:\n",
    "    if i not in x and y.count(i)>1:\n",
    "        x.append(i)\n",
    "        c += 1\n",
    "\n",
    "print( x , c )\n"
   ]
  },
  {
   "cell_type": "markdown",
   "metadata": {},
   "source": [
    "•\tPython – Group Similar items to Dictionary Values List\n"
   ]
  },
  {
   "cell_type": "code",
   "execution_count": null,
   "metadata": {},
   "outputs": [],
   "source": []
  },
  {
   "cell_type": "markdown",
   "metadata": {},
   "source": [
    "•\tK’th Non-repeating Character in Python using List Comprehension and OrderedDict\n"
   ]
  },
  {
   "cell_type": "code",
   "execution_count": null,
   "metadata": {},
   "outputs": [],
   "source": []
  },
  {
   "cell_type": "markdown",
   "metadata": {},
   "source": [
    "•\tPython – Replace String by Kth Dictionary value\n"
   ]
  },
  {
   "cell_type": "code",
   "execution_count": 5,
   "metadata": {},
   "outputs": [
    {
     "name": "stdout",
     "output_type": "stream",
     "text": [
      "[7, 2, 'best']\n"
     ]
    }
   ],
   "source": [
    "list = [\"suneet\", \"paul\", \"best\"]\n",
    "\n",
    "dict = {\n",
    "    \"suneet\" : [5, 6, 7], \n",
    "    \"paul\" : [7, 4, 2], \n",
    "}\n",
    " \n",
    "K = 2\n",
    " \n",
    "for i in range(len(list)):\n",
    "    if list[i] in dict:\n",
    "        list[i] = dict[list[i]][K]\n",
    " \n",
    "# printing result \n",
    "print( list)"
   ]
  },
  {
   "cell_type": "markdown",
   "metadata": {},
   "source": [
    "•\tPython | Ways to remove a key from dictionary\n"
   ]
  },
  {
   "cell_type": "code",
   "execution_count": 6,
   "metadata": {},
   "outputs": [
    {
     "name": "stdout",
     "output_type": "stream",
     "text": [
      "{'a': 1, 'c': 3}\n"
     ]
    }
   ],
   "source": [
    "data = {\"a\": 1, \"b\": 2, \"c\": 3}\n",
    "del data[\"b\"]\n",
    "print(data)"
   ]
  },
  {
   "cell_type": "code",
   "execution_count": 11,
   "metadata": {},
   "outputs": [
    {
     "name": "stdout",
     "output_type": "stream",
     "text": [
      "{'a': 1, 'c': 3}\n"
     ]
    }
   ],
   "source": [
    "data = {\"a\": 1, \"b\": 2, \"c\": 3}\n",
    "value = data.pop(\"b\") \n",
    "print(data)\n"
   ]
  },
  {
   "cell_type": "markdown",
   "metadata": {},
   "source": [
    "•\tPython – Replace words from Dictionary\n"
   ]
  },
  {
   "cell_type": "code",
   "execution_count": 13,
   "metadata": {},
   "outputs": [
    {
     "name": "stdout",
     "output_type": "stream",
     "text": [
      "study good and better for all CS student\n"
     ]
    }
   ],
   "source": [
    "text = \"study best for student\"\n",
    "replacements = {\"best\" : \"good and better\", \"student\" : \"all CS student\"}\n",
    "\n",
    "for old_word, new_word in replacements.items():\n",
    "    text = text.replace(old_word, new_word)\n",
    "\n",
    "print(text)"
   ]
  },
  {
   "cell_type": "markdown",
   "metadata": {},
   "source": [
    "•\tPython – Remove Dictionary Key Words\n"
   ]
  },
  {
   "cell_type": "code",
   "execution_count": 15,
   "metadata": {},
   "outputs": [
    {
     "name": "stdout",
     "output_type": "stream",
     "text": [
      "{'banana': 3, 'orange': 2}\n"
     ]
    }
   ],
   "source": [
    "dit = {'banana': 3, 'apple': 1, 'orange': 2}\n",
    "\n",
    "key = input(' remove word ')\n",
    "\n",
    "del dit[key ]\n",
    "\n",
    "print(dit)"
   ]
  },
  {
   "cell_type": "markdown",
   "metadata": {},
   "source": [
    "•\tPython | Remove all duplicates words from a given sentence\n"
   ]
  },
  {
   "cell_type": "code",
   "execution_count": null,
   "metadata": {},
   "outputs": [],
   "source": []
  },
  {
   "cell_type": "markdown",
   "metadata": {},
   "source": [
    "•\tPython – Remove duplicate values across Dictionary Values\n"
   ]
  },
  {
   "cell_type": "code",
   "execution_count": null,
   "metadata": {},
   "outputs": [],
   "source": []
  },
  {
   "cell_type": "markdown",
   "metadata": {},
   "source": [
    "•\tPython Dictionary to find mirror characters in a string\n"
   ]
  },
  {
   "cell_type": "code",
   "execution_count": 11,
   "metadata": {},
   "outputs": [
    {
     "name": "stdout",
     "output_type": "stream",
     "text": [
      "teenus\n"
     ]
    }
   ],
   "source": [
    "s = \"suneet\"\n",
    "rev = \"\"\n",
    "for i in s:\n",
    "    rev = i +rev\n",
    "print(rev)"
   ]
  },
  {
   "cell_type": "markdown",
   "metadata": {},
   "source": [
    "•\tCounting the frequencies in a list using dictionary in Python\n"
   ]
  },
  {
   "cell_type": "code",
   "execution_count": 26,
   "metadata": {},
   "outputs": [
    {
     "name": "stdout",
     "output_type": "stream",
     "text": [
      "{'apple': 3, 'banana': 2, 'orange': 2}\n"
     ]
    }
   ],
   "source": [
    "data = [\"apple\", \"banana\", \"apple\", \"orange\", \"banana\", \"apple\", \"orange\"]\n",
    "frequency_dict = {}\n",
    "\n",
    "for item in data:\n",
    "    if item in frequency_dict:\n",
    "        frequency_dict[item] += 1\n",
    "    else:\n",
    "        frequency_dict[item] = 1  \n",
    "\n",
    "\n",
    "print(frequency_dict)\n",
    "\n"
   ]
  },
  {
   "cell_type": "markdown",
   "metadata": {},
   "source": [
    "•\tPython – Dictionary Values Mean\n"
   ]
  },
  {
   "cell_type": "code",
   "execution_count": 14,
   "metadata": {},
   "outputs": [
    {
     "name": "stdout",
     "output_type": "stream",
     "text": [
      "2.0\n"
     ]
    }
   ],
   "source": [
    "dict1 = {'apple': 3, 'banana': 1, 'orange': 2}\n",
    "mean = 0\n",
    "\n",
    "for i in dict1.values():\n",
    "    mean += i\n",
    "\n",
    "mean = mean / len(dict1)\n",
    "\n",
    "print(mean)"
   ]
  },
  {
   "cell_type": "markdown",
   "metadata": {},
   "source": [
    "•\tPython counter and dictionary intersection example (Make a string using deletion and rearrangement)\n"
   ]
  },
  {
   "cell_type": "code",
   "execution_count": null,
   "metadata": {},
   "outputs": [],
   "source": []
  },
  {
   "cell_type": "markdown",
   "metadata": {},
   "source": [
    "•\tPython dictionary, set and counter to check if frequencies can become same\n"
   ]
  },
  {
   "cell_type": "code",
   "execution_count": 19,
   "metadata": {},
   "outputs": [
    {
     "name": "stdout",
     "output_type": "stream",
     "text": [
      "The string is : yyy\n",
      "The frequencies are same\n"
     ]
    }
   ],
   "source": [
    "from collections import Counter\n",
    "\n",
    "def check(input):\n",
    "\n",
    "    dic = Counter(input)\n",
    "    \n",
    "    input2 = list(set(dic.values()))\n",
    "    \n",
    "    if len(input2)>2:\n",
    "        print('The frequencies are not same')\n",
    "    \n",
    "    elif len (input2)==2 and input2[1]-input2[0]>1:\n",
    "        print('The frequencies are not same')\n",
    "    \n",
    "    else:\n",
    "        print('The frequencies are same')\n",
    "\n",
    "\n",
    "\n",
    "print(\"The string is :\" , my_str)\n",
    " \n",
    "my_str = 'yyy'\n",
    "\n",
    "check(my_str)"
   ]
  },
  {
   "cell_type": "markdown",
   "metadata": {},
   "source": [
    "•\tScraping And Finding Ordered Words In A Dictionary using Python\n"
   ]
  },
  {
   "cell_type": "code",
   "execution_count": null,
   "metadata": {},
   "outputs": [],
   "source": []
  },
  {
   "cell_type": "markdown",
   "metadata": {},
   "source": [
    "•\tPossible Words using given characters in Python\n"
   ]
  },
  {
   "cell_type": "code",
   "execution_count": null,
   "metadata": {},
   "outputs": [],
   "source": []
  },
  {
   "cell_type": "markdown",
   "metadata": {},
   "source": [
    "•\tPython – Maximum record value key in dictionary\n"
   ]
  },
  {
   "cell_type": "code",
   "execution_count": 22,
   "metadata": {},
   "outputs": [
    {
     "name": "stdout",
     "output_type": "stream",
     "text": [
      " maximum key is: 'c' value of 30\n"
     ]
    }
   ],
   "source": [
    "# Sample dictionary\n",
    "my_dict = {\n",
    "    'a': 10,\n",
    "    'b': 20,\n",
    "    'c': 30,\n",
    "    'd': 25\n",
    "}\n",
    "\n",
    "max_key = max(my_dict, key=my_dict.get)\n",
    "\n",
    "# Output the result\n",
    "print(f\" maximum key is: '{max_key}' value of {my_dict[max_key]}\")"
   ]
  },
  {
   "cell_type": "markdown",
   "metadata": {},
   "source": [
    "•\tPython – Extract values of Particular Key in Nested Values\n"
   ]
  },
  {
   "cell_type": "code",
   "execution_count": 24,
   "metadata": {},
   "outputs": [
    {
     "name": "stdout",
     "output_type": "stream",
     "text": [
      "{'child1': {'name': 'Alice', 'age': 25, 'city': 'New York'}, 'child2': {'name': 'Bob', 'age': 30, 'city': 'Los Angeles'}, 'child3': {'name': 'Charlie', 'age': 35, 'city': 'New York'}}\n"
     ]
    }
   ],
   "source": [
    "student = {\n",
    "    'child1' :  {'name': 'Alice', 'age': 25, 'city': 'New York'},\n",
    "    'child2' :  {'name': 'Bob', 'age': 30, 'city': 'Los Angeles'},\n",
    "    'child3' :  {'name': 'Charlie', 'age': 35, 'city': 'New York'},\n",
    "}\n",
    "\n",
    "print(student )"
   ]
  }
 ],
 "metadata": {
  "kernelspec": {
   "display_name": "base",
   "language": "python",
   "name": "python3"
  },
  "language_info": {
   "codemirror_mode": {
    "name": "ipython",
    "version": 3
   },
   "file_extension": ".py",
   "mimetype": "text/x-python",
   "name": "python",
   "nbconvert_exporter": "python",
   "pygments_lexer": "ipython3",
   "version": "3.12.4"
  }
 },
 "nbformat": 4,
 "nbformat_minor": 2
}
