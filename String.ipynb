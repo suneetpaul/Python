{
 "cells": [
  {
   "cell_type": "markdown",
   "metadata": {},
   "source": [
    "•\tPython program to check whether the string is Symmetrical or Palindrome\n"
   ]
  },
  {
   "cell_type": "code",
   "execution_count": 2,
   "metadata": {},
   "outputs": [
    {
     "name": "stdout",
     "output_type": "stream",
     "text": [
      "Baji is a not symetrical\n"
     ]
    }
   ],
   "source": [
    "\n",
    "x = 'Baji'\n",
    "z = ''\n",
    "for i in x:\n",
    "  z = i + z\n",
    "if(x == z ):\n",
    "     print(x,\"is a palindrome\")\n",
    "else:\n",
    "     print(x,\"is a not symetrical\")"
   ]
  },
  {
   "cell_type": "markdown",
   "metadata": {},
   "source": [
    "•\tReverse words in a given String in Python\n"
   ]
  },
  {
   "cell_type": "code",
   "execution_count": 3,
   "metadata": {},
   "outputs": [
    {
     "name": "stdout",
     "output_type": "stream",
     "text": [
      "ahtorB olleH\n"
     ]
    }
   ],
   "source": [
    "x=\"Hello Brotha\"\n",
    "z=''\n",
    "for i in x:\n",
    "  z=i+z\n",
    "print(z)"
   ]
  },
  {
   "cell_type": "markdown",
   "metadata": {},
   "source": [
    "•\tWays to remove i’th character from string in Python\n"
   ]
  },
  {
   "cell_type": "code",
   "execution_count": 4,
   "metadata": {},
   "outputs": [
    {
     "name": "stdout",
     "output_type": "stream",
     "text": [
      "HelloWorld\n"
     ]
    }
   ],
   "source": [
    "s = \"Hello World\"\n",
    "i = int(input(\"enter a number\"))\n",
    "result = s[:i] + s[i+1:]\n",
    "print(result)"
   ]
  },
  {
   "cell_type": "markdown",
   "metadata": {},
   "source": [
    "•\tFind length of a string in python (4 ways)\n"
   ]
  },
  {
   "cell_type": "code",
   "execution_count": 5,
   "metadata": {},
   "outputs": [
    {
     "name": "stdout",
     "output_type": "stream",
     "text": [
      "17\n"
     ]
    }
   ],
   "source": [
    "\n",
    "x = \"Hello Armwrestler\"\n",
    "print(len(x)) "
   ]
  },
  {
   "cell_type": "code",
   "execution_count": 6,
   "metadata": {},
   "outputs": [
    {
     "name": "stdout",
     "output_type": "stream",
     "text": [
      "8\n"
     ]
    }
   ],
   "source": [
    "\n",
    "x= \"Hello Mr\"\n",
    "z = len(x)\n",
    "print(z) "
   ]
  },
  {
   "cell_type": "code",
   "execution_count": 7,
   "metadata": {},
   "outputs": [
    {
     "name": "stdout",
     "output_type": "stream",
     "text": [
      "6\n"
     ]
    }
   ],
   "source": [
    "\n",
    "x = \"Hello\"\n",
    "l=x.count(\"\")\n",
    "print(l)"
   ]
  },
  {
   "cell_type": "code",
   "execution_count": 8,
   "metadata": {},
   "outputs": [
    {
     "name": "stdout",
     "output_type": "stream",
     "text": [
      "5\n"
     ]
    }
   ],
   "source": [
    "\n",
    "\n",
    "x = \"Hello\"\n",
    "y = 0\n",
    "for i in x:\n",
    "    y += 1\n",
    "print(y) "
   ]
  },
  {
   "cell_type": "markdown",
   "metadata": {},
   "source": [
    "•\tPython – Avoid Spaces in string length\n"
   ]
  },
  {
   "cell_type": "code",
   "execution_count": 9,
   "metadata": {},
   "outputs": [
    {
     "data": {
      "text/plain": [
       "'hello world'"
      ]
     },
     "execution_count": 9,
     "metadata": {},
     "output_type": "execute_result"
    }
   ],
   "source": [
    "x= '   hello world   '\n",
    "x.strip()"
   ]
  },
  {
   "cell_type": "markdown",
   "metadata": {},
   "source": [
    "•\tPython program to print even length words in a string\n"
   ]
  },
  {
   "cell_type": "code",
   "execution_count": 10,
   "metadata": {},
   "outputs": [
    {
     "name": "stdout",
     "output_type": "stream",
     "text": [
      "Is\n",
      "this\n",
      "answer\n",
      "assignment\n"
     ]
    }
   ],
   "source": [
    "x=\"Is this a answer for assignment\"\n",
    "y=x.split(\" \") \n",
    "for i in y:\n",
    "    if len(i)%2==0:\n",
    "        print(i)"
   ]
  },
  {
   "cell_type": "markdown",
   "metadata": {},
   "source": [
    "•\tPython – Uppercase Half String\n"
   ]
  },
  {
   "cell_type": "code",
   "execution_count": 11,
   "metadata": {},
   "outputs": [
    {
     "name": "stdout",
     "output_type": "stream",
     "text": [
      "The string is: Hello ArMWRESTLER\n"
     ]
    }
   ],
   "source": [
    "x = 'Hello Armwrestler'\n",
    "y = len(x) // 2\n",
    "z = x[:y] + x[y:].upper()\n",
    "print(\"The string is:\",z)"
   ]
  },
  {
   "cell_type": "markdown",
   "metadata": {},
   "source": [
    "•\tPython program to capitalize the first and last character of each word in a string\n"
   ]
  },
  {
   "cell_type": "code",
   "execution_count": null,
   "metadata": {},
   "outputs": [],
   "source": [
    "x= ('hello world')\n",
    "print(x.title())"
   ]
  },
  {
   "cell_type": "code",
   "execution_count": null,
   "metadata": {},
   "outputs": [],
   "source": [
    "\n",
    "x = 'hello Armwrestler'\n",
    "z = x[0].upper()+x[1:-1] + x[-1].upper()\n",
    "print(\"The string is:\",z)"
   ]
  },
  {
   "cell_type": "markdown",
   "metadata": {},
   "source": [
    "•\tPython program to check if a string has at least one letter and one number\n"
   ]
  },
  {
   "cell_type": "code",
   "execution_count": null,
   "metadata": {},
   "outputs": [],
   "source": [
    "x=\"tokkyomanji2\"\n",
    "if (i.isalpha() and i.isdigit() ):\n",
    "    print(\"yes\")\n",
    "else:\n",
    "    print(\"no\")"
   ]
  },
  {
   "cell_type": "markdown",
   "metadata": {},
   "source": [
    "•\tPython | Program to accept the strings which contains all vowels\n"
   ]
  },
  {
   "cell_type": "code",
   "execution_count": null,
   "metadata": {},
   "outputs": [],
   "source": [
    "x=\"aseahil\"\n",
    "y= [x.count('a'),x.count('e'),x.count('i'),x.count('o'),x.count('u')]\n",
    "if y.count(0) >0:\n",
    "    print(\"no\")\n",
    "else:\n",
    "    print(\"yes\")"
   ]
  },
  {
   "cell_type": "markdown",
   "metadata": {},
   "source": [
    "•\tPython | Count the Number of matching characters in a pair of string\n"
   ]
  },
  {
   "cell_type": "code",
   "execution_count": null,
   "metadata": {},
   "outputs": [],
   "source": [
    "\n",
    "str1 = \"Herlo\"\n",
    "str2 = \"Worle\"\n",
    "common_chars = set(str1) & set(str2)\n",
    "z = sum(min(str1.count(char), str2.count(char)) for char in common_chars)\n",
    "print(z)"
   ]
  },
  {
   "cell_type": "markdown",
   "metadata": {},
   "source": [
    "•\tPython program to count number of vowels using sets in given string\n"
   ]
  },
  {
   "cell_type": "code",
   "execution_count": null,
   "metadata": {},
   "outputs": [],
   "source": [
    "\n",
    "x=\"bvaikerbbr\"\n",
    "y=set(\"aeiou\")\n",
    "count=0\n",
    "for i  in x:\n",
    "    if i in y:\n",
    "        count+=1\n",
    "print(count)"
   ]
  },
  {
   "cell_type": "markdown",
   "metadata": {},
   "source": [
    "•\tPython Program to remove all duplicates from a given string\n"
   ]
  },
  {
   "cell_type": "code",
   "execution_count": null,
   "metadata": {},
   "outputs": [],
   "source": []
  },
  {
   "cell_type": "markdown",
   "metadata": {},
   "source": [
    "•\tPython – Least Frequent Character in String\n"
   ]
  },
  {
   "cell_type": "code",
   "execution_count": null,
   "metadata": {},
   "outputs": [],
   "source": []
  },
  {
   "cell_type": "markdown",
   "metadata": {},
   "source": [
    "•\tPython | Maximum frequency character in String\n"
   ]
  },
  {
   "cell_type": "code",
   "execution_count": 13,
   "metadata": {},
   "outputs": [
    {
     "name": "stdout",
     "output_type": "stream",
     "text": [
      "Most frequent character: r\n"
     ]
    }
   ],
   "source": [
    "\n",
    "x = \"hoello Armwrestler\"\n",
    "y = x[0]\n",
    "z = x.count(y)\n",
    "for i in set(x):\n",
    "    c = x.count(i)\n",
    "    if c> z:\n",
    "        z= c\n",
    "        y =i\n",
    "print(\"Most frequent character:\", y)"
   ]
  },
  {
   "cell_type": "markdown",
   "metadata": {},
   "source": [
    "•\tPython – Odd Frequency Characters\n"
   ]
  },
  {
   "cell_type": "code",
   "execution_count": 14,
   "metadata": {},
   "outputs": [
    {
     "name": "stdout",
     "output_type": "stream",
     "text": [
      "odd frequency ['H', ' ', 'r', 'e', 'l', 'W', 'd']\n"
     ]
    }
   ],
   "source": [
    "\n",
    "x = \"Hello World\"\n",
    "y = []\n",
    "for i in set(x):\n",
    "    z = x.count(i)\n",
    "    if z % 2 != 0:\n",
    "        y.append(i)\n",
    "print(\"odd frequency\", y)"
   ]
  },
  {
   "cell_type": "markdown",
   "metadata": {},
   "source": [
    "•\tPython – Specific Characters Frequency in String List\n"
   ]
  },
  {
   "cell_type": "code",
   "execution_count": 15,
   "metadata": {},
   "outputs": [
    {
     "name": "stdout",
     "output_type": "stream",
     "text": [
      "Input characters frequency :  {'e': 8, 'i': 4, 'a': 6}\n"
     ]
    }
   ],
   "source": [
    "\n",
    "x = [\"Whatever it takes no matter give your fulll and rest do nothing eat five star.\"]\n",
    "y = ['e', 'i', 'a']\n",
    "d=dict()\n",
    "for i in y:\n",
    "\td[i]=x[0].count(i)\n",
    "z=d\n",
    "print(\"Input characters frequency : \", (z))"
   ]
  },
  {
   "cell_type": "markdown",
   "metadata": {},
   "source": [
    "•\tPython | Frequency of numbers in String\n"
   ]
  },
  {
   "cell_type": "code",
   "execution_count": null,
   "metadata": {},
   "outputs": [],
   "source": []
  },
  {
   "cell_type": "markdown",
   "metadata": {},
   "source": [
    "•\tPython | Program to check if a string contains any special character\n"
   ]
  },
  {
   "cell_type": "code",
   "execution_count": 16,
   "metadata": {},
   "outputs": [
    {
     "name": "stdout",
     "output_type": "stream",
     "text": [
      "special characters.\n"
     ]
    }
   ],
   "source": [
    "\n",
    "x= \"$Hello@World\"\n",
    "if not x.isalnum():\n",
    "    print(\"special characters.\")\n",
    "else:\n",
    "    print(\"not special characters.\")"
   ]
  },
  {
   "cell_type": "markdown",
   "metadata": {},
   "source": [
    "•\tGenerating random strings until a given string is generated\n"
   ]
  },
  {
   "cell_type": "code",
   "execution_count": null,
   "metadata": {},
   "outputs": [],
   "source": []
  },
  {
   "cell_type": "markdown",
   "metadata": {},
   "source": [
    "•\tFind words which are greater than given length k\n"
   ]
  },
  {
   "cell_type": "code",
   "execution_count": null,
   "metadata": {},
   "outputs": [],
   "source": []
  },
  {
   "cell_type": "markdown",
   "metadata": {},
   "source": [
    "•\tPython program for removing i-th character from a string\n"
   ]
  },
  {
   "cell_type": "code",
   "execution_count": 17,
   "metadata": {},
   "outputs": [
    {
     "name": "stdout",
     "output_type": "stream",
     "text": [
      "Good Morining sir \n"
     ]
    }
   ],
   "source": [
    "\n",
    "x = \"Good Morining bsir \"\n",
    "z = 14\n",
    "if z < 0 or z >= len(x):\n",
    "    print(\"Invalid index.\")\n",
    "else:\n",
    "    y= x[:z] + x[z+1:]\n",
    "    print(y)"
   ]
  },
  {
   "cell_type": "markdown",
   "metadata": {},
   "source": [
    "•\tPython program to split and join a string\n"
   ]
  },
  {
   "cell_type": "code",
   "execution_count": null,
   "metadata": {},
   "outputs": [],
   "source": [
    "\n",
    "x = \"It's impossible\"\n",
    "print(x.split(\" \")) \n",
    "print(\" not \".join(x.split()))"
   ]
  },
  {
   "cell_type": "markdown",
   "metadata": {},
   "source": [
    "•\tPython | Check if a given string is binary string or not\n"
   ]
  },
  {
   "cell_type": "code",
   "execution_count": null,
   "metadata": {},
   "outputs": [],
   "source": [
    "\n",
    "x = \"0107\"\n",
    "y=\"01\"\n",
    "for i in y:\n",
    "    x=x.replace(i,\"\")\n",
    "if(len(x)==0):\n",
    "    print(\"Yes\")\n",
    "else:\n",
    "    print(\"No\")"
   ]
  },
  {
   "cell_type": "markdown",
   "metadata": {},
   "source": [
    "•\tPython | Find all close matches of input string from a list\n"
   ]
  },
  {
   "cell_type": "code",
   "execution_count": null,
   "metadata": {},
   "outputs": [],
   "source": []
  },
  {
   "cell_type": "markdown",
   "metadata": {},
   "source": [
    "•\tPython program to find uncommon words from two Strings\n"
   ]
  },
  {
   "cell_type": "code",
   "execution_count": null,
   "metadata": {},
   "outputs": [],
   "source": [
    "x= \"Hello world this is knull\"\n",
    "y= \"Hello world that is jarves\"\n",
    "x1 = x.split()\n",
    "y2 = y.split()\n",
    "str1 = []\n",
    "str2 = []\n",
    "for i in x1:\n",
    "    if i not in y2:\n",
    "        str1.append(i)\n",
    "for i in y2:\n",
    "    if i not in x1:\n",
    "        str2.append(i)\n",
    "total_uncommon = list(set(str1+str2))\n",
    "print( total_uncommon)"
   ]
  },
  {
   "cell_type": "markdown",
   "metadata": {},
   "source": [
    "•\tPython | Swap commas and dots in a String\n"
   ]
  },
  {
   "cell_type": "code",
   "execution_count": null,
   "metadata": {},
   "outputs": [],
   "source": [
    "answer\n",
    "x= \"Hello, World. This is Python,\"\n",
    "y = input_str.replace(\",\", \":\").replace(\".\", \",\").replace(\":\", \".\")\n",
    "print(y)"
   ]
  },
  {
   "cell_type": "markdown",
   "metadata": {},
   "source": [
    "•\tPython | Permutation of a given string using inbuilt function\n"
   ]
  },
  {
   "cell_type": "code",
   "execution_count": null,
   "metadata": {},
   "outputs": [],
   "source": []
  },
  {
   "cell_type": "markdown",
   "metadata": {},
   "source": [
    "•\tPython | Check for URL in a String\n"
   ]
  },
  {
   "cell_type": "code",
   "execution_count": 34,
   "metadata": {},
   "outputs": [
    {
     "name": "stdout",
     "output_type": "stream",
     "text": [
      "yes it have url.\n"
     ]
    }
   ],
   "source": [
    "\n",
    "x = \"Hello@https://docs.google.com/document/d/1BZYZbP0V7BBQDuiiW5QatO84j-0dB7PE/edit\"\n",
    "if \"https://\" in x:\n",
    "    print(\"yes it have url.\")\n",
    "else:\n",
    "    print(\"not at all.\")"
   ]
  },
  {
   "cell_type": "markdown",
   "metadata": {},
   "source": [
    "•\tExecute a String of Code in Python\n"
   ]
  },
  {
   "cell_type": "code",
   "execution_count": null,
   "metadata": {},
   "outputs": [],
   "source": []
  },
  {
   "cell_type": "markdown",
   "metadata": {},
   "source": [
    "•\tPython | Convert numeric words to numbers\n"
   ]
  },
  {
   "cell_type": "code",
   "execution_count": null,
   "metadata": {},
   "outputs": [],
   "source": []
  },
  {
   "cell_type": "markdown",
   "metadata": {},
   "source": [
    "•\tPython | Word location in String\n"
   ]
  },
  {
   "cell_type": "code",
   "execution_count": null,
   "metadata": {},
   "outputs": [
    {
     "name": "stdout",
     "output_type": "stream",
     "text": [
      "The location of word is :  10\n"
     ]
    }
   ],
   "source": [
    "\n",
    "x = 'I am the best'\n",
    "wrd = 'best'\n",
    "\n",
    "res=x.index(wrd) +1\n",
    "print(\"The location of word is : \" , res)"
   ]
  },
  {
   "cell_type": "markdown",
   "metadata": {},
   "source": [
    "•\tPython | Consecutive characters frequency\n"
   ]
  },
  {
   "cell_type": "code",
   "execution_count": null,
   "metadata": {},
   "outputs": [],
   "source": []
  },
  {
   "cell_type": "markdown",
   "metadata": {},
   "source": [
    "•\tString slicing in Python to rotate a string\n"
   ]
  },
  {
   "cell_type": "code",
   "execution_count": null,
   "metadata": {},
   "outputs": [],
   "source": []
  },
  {
   "cell_type": "markdown",
   "metadata": {},
   "source": [
    "•\tString slicing in Python to check if a string can become empty by recursive deletion\n"
   ]
  },
  {
   "cell_type": "code",
   "execution_count": null,
   "metadata": {},
   "outputs": [],
   "source": []
  },
  {
   "cell_type": "markdown",
   "metadata": {},
   "source": [
    "•\tPython Program to find minimum number of rotations to obtain actual string\n"
   ]
  },
  {
   "cell_type": "code",
   "execution_count": null,
   "metadata": {},
   "outputs": [],
   "source": []
  },
  {
   "cell_type": "markdown",
   "metadata": {},
   "source": [
    "•\tPython – Words Frequency in String Shorthands\n"
   ]
  },
  {
   "cell_type": "code",
   "execution_count": 33,
   "metadata": {},
   "outputs": [
    {
     "name": "stdout",
     "output_type": "stream",
     "text": [
      "{'who': 1, 'is': 2, 'the': 2, 'best,is': 1, 'am': 1, 'i': 3, 'best': 2}\n"
     ]
    }
   ],
   "source": [
    "\n",
    "x = 'who is the best,is am i the best'\n",
    "y = {key: x.count(key) for key in x.split()}\n",
    "print(y)"
   ]
  },
  {
   "cell_type": "markdown",
   "metadata": {},
   "source": [
    "•\tPython – Successive Characters Frequency\n"
   ]
  },
  {
   "cell_type": "code",
   "execution_count": null,
   "metadata": {},
   "outputs": [],
   "source": []
  },
  {
   "cell_type": "markdown",
   "metadata": {},
   "source": [
    "•\tPython – Sort String list by K character frequency\n"
   ]
  },
  {
   "cell_type": "code",
   "execution_count": null,
   "metadata": {},
   "outputs": [],
   "source": []
  },
  {
   "cell_type": "markdown",
   "metadata": {},
   "source": [
    "•\tPython – Convert Snake case to Pascal case\n"
   ]
  },
  {
   "cell_type": "code",
   "execution_count": null,
   "metadata": {},
   "outputs": [],
   "source": []
  },
  {
   "cell_type": "markdown",
   "metadata": {},
   "source": [
    "•\tPython – Avoid Last occurrence of delimitter\n"
   ]
  },
  {
   "cell_type": "code",
   "execution_count": null,
   "metadata": {},
   "outputs": [],
   "source": []
  },
  {
   "cell_type": "markdown",
   "metadata": {},
   "source": [
    "•\tPython program to find the character position of Kth word from a list of strings\n"
   ]
  },
  {
   "cell_type": "code",
   "execution_count": null,
   "metadata": {},
   "outputs": [],
   "source": []
  },
  {
   "cell_type": "markdown",
   "metadata": {},
   "source": [
    "•\tPython – Right and Left Shift characters in String\n"
   ]
  },
  {
   "cell_type": "code",
   "execution_count": null,
   "metadata": {},
   "outputs": [],
   "source": []
  },
  {
   "cell_type": "markdown",
   "metadata": {},
   "source": [
    "•\tPython | Exceptional Split in String\n"
   ]
  },
  {
   "cell_type": "code",
   "execution_count": null,
   "metadata": {},
   "outputs": [],
   "source": []
  },
  {
   "cell_type": "markdown",
   "metadata": {},
   "source": [
    "•\tPython – Split String on vowels\n"
   ]
  },
  {
   "cell_type": "code",
   "execution_count": null,
   "metadata": {},
   "outputs": [],
   "source": []
  },
  {
   "cell_type": "markdown",
   "metadata": {},
   "source": [
    "•\tPython – Mirror Image of String\n"
   ]
  },
  {
   "cell_type": "code",
   "execution_count": 32,
   "metadata": {},
   "outputs": [
    {
     "name": "stdout",
     "output_type": "stream",
     "text": [
      "Mirror Image: dlroW olleH\n"
     ]
    }
   ],
   "source": [
    "\n",
    "x = \"Hello World\"\n",
    "y = x[::-1]\n",
    "print(\"Mirror Image:\", y)"
   ]
  },
  {
   "cell_type": "markdown",
   "metadata": {},
   "source": [
    "•\tPython – Replace multiple words with K\n"
   ]
  },
  {
   "cell_type": "code",
   "execution_count": null,
   "metadata": {},
   "outputs": [],
   "source": []
  },
  {
   "cell_type": "markdown",
   "metadata": {},
   "source": [
    "•\tPython – Replace Different characters in String at Once\n"
   ]
  },
  {
   "cell_type": "code",
   "execution_count": null,
   "metadata": {},
   "outputs": [],
   "source": []
  },
  {
   "cell_type": "markdown",
   "metadata": {},
   "source": [
    "•\tPython | Multiple indices Replace in String\n"
   ]
  },
  {
   "cell_type": "code",
   "execution_count": null,
   "metadata": {},
   "outputs": [],
   "source": []
  },
  {
   "cell_type": "markdown",
   "metadata": {},
   "source": [
    "•\tPython – Ways to remove multiple empty spaces from string List\n"
   ]
  },
  {
   "cell_type": "code",
   "execution_count": 30,
   "metadata": {},
   "outputs": [
    {
     "name": "stdout",
     "output_type": "stream",
     "text": [
      "Lets'sbringmedalforNation\n"
     ]
    }
   ],
   "source": [
    "x= \"Lets's bring medal for Nation\"\n",
    "x = x.replace(\" \", \"\")\n",
    "print(x)"
   ]
  },
  {
   "cell_type": "markdown",
   "metadata": {},
   "source": [
    "•\tPython | Remove punctuation from string\n"
   ]
  },
  {
   "cell_type": "code",
   "execution_count": null,
   "metadata": {},
   "outputs": [],
   "source": []
  },
  {
   "cell_type": "markdown",
   "metadata": {},
   "source": [
    "•\tPython – Similar characters Strings comparison\n"
   ]
  },
  {
   "cell_type": "code",
   "execution_count": 29,
   "metadata": {},
   "outputs": [
    {
     "name": "stdout",
     "output_type": "stream",
     "text": [
      "Similar {'o'}\n"
     ]
    }
   ],
   "source": [
    "\n",
    "s1 = \"hoi\"\n",
    "s2 = \"Hola\"\n",
    "x = set(s1) & set(s2)\n",
    "print(\"Similar\", x)"
   ]
  },
  {
   "cell_type": "markdown",
   "metadata": {},
   "source": [
    "•\tPython – Remove K length Duplicates from String\n"
   ]
  },
  {
   "cell_type": "code",
   "execution_count": null,
   "metadata": {},
   "outputs": [],
   "source": []
  },
  {
   "cell_type": "markdown",
   "metadata": {},
   "source": [
    "•\tPython – Remove suffix from string list\n"
   ]
  },
  {
   "cell_type": "code",
   "execution_count": null,
   "metadata": {},
   "outputs": [],
   "source": []
  },
  {
   "cell_type": "markdown",
   "metadata": {},
   "source": [
    "•\tPython Counter| Find all duplicate characters in string\n"
   ]
  },
  {
   "cell_type": "code",
   "execution_count": null,
   "metadata": {},
   "outputs": [],
   "source": []
  },
  {
   "cell_type": "markdown",
   "metadata": {},
   "source": [
    "•\tPython – Replace duplicate Occurrence in String\n"
   ]
  },
  {
   "cell_type": "code",
   "execution_count": null,
   "metadata": {},
   "outputs": [],
   "source": []
  },
  {
   "cell_type": "markdown",
   "metadata": {},
   "source": [
    "•\tWays to convert string to dictionary\n"
   ]
  },
  {
   "cell_type": "code",
   "execution_count": 28,
   "metadata": {},
   "outputs": [
    {
     "name": "stdout",
     "output_type": "stream",
     "text": [
      "{' Micky ': ' Toman', ' Sahoo ': ' Toso', ' Senju ': ' Brahman'}\n"
     ]
    }
   ],
   "source": [
    "\n",
    "str = \" Micky = Toman; Sahoo = Toso; Senju = Brahman\"\n",
    "res=dict()\n",
    "x=str.split(\";\")\n",
    "for i in x:\n",
    "    a=i[:i.index(\"=\")]\n",
    "    b=i[i.index(\"=\")+1:]\n",
    "    res[a]=b\n",
    "print(res)"
   ]
  },
  {
   "cell_type": "markdown",
   "metadata": {},
   "source": [
    "•\tPython – Check if two strings are Rotationally Equivalent\n"
   ]
  },
  {
   "cell_type": "code",
   "execution_count": null,
   "metadata": {},
   "outputs": [],
   "source": []
  },
  {
   "cell_type": "markdown",
   "metadata": {},
   "source": [
    "•\tPython | Test if string is subset of another\n"
   ]
  },
  {
   "cell_type": "code",
   "execution_count": null,
   "metadata": {},
   "outputs": [],
   "source": [
    "\n",
    "x = \"whats'ups\"\n",
    "y = \"whsf\"\n",
    "z = set(y).issubset(x)\n",
    "print(z)"
   ]
  },
  {
   "cell_type": "markdown",
   "metadata": {},
   "source": [
    "•\tPython Program to Generate Random binary string\n"
   ]
  },
  {
   "cell_type": "code",
   "execution_count": null,
   "metadata": {},
   "outputs": [],
   "source": []
  },
  {
   "cell_type": "markdown",
   "metadata": {},
   "source": [
    "•\tPython Program to convert binary to string\n"
   ]
  },
  {
   "cell_type": "code",
   "execution_count": null,
   "metadata": {},
   "outputs": [],
   "source": []
  },
  {
   "cell_type": "markdown",
   "metadata": {},
   "source": [
    "•\tPython – Reverse Sort a String\n",
    "\n"
   ]
  },
  {
   "cell_type": "code",
   "execution_count": null,
   "metadata": {},
   "outputs": [],
   "source": []
  }
 ],
 "metadata": {
  "kernelspec": {
   "display_name": "base",
   "language": "python",
   "name": "python3"
  },
  "language_info": {
   "codemirror_mode": {
    "name": "ipython",
    "version": 3
   },
   "file_extension": ".py",
   "mimetype": "text/x-python",
   "name": "python",
   "nbconvert_exporter": "python",
   "pygments_lexer": "ipython3",
   "version": "3.12.4"
  }
 },
 "nbformat": 4,
 "nbformat_minor": 2
}
